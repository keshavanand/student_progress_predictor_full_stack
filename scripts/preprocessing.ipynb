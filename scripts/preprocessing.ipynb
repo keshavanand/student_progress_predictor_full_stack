{
 "cells": [
  {
   "cell_type": "code",
   "execution_count": 1,
   "metadata": {},
   "outputs": [],
   "source": [
    "import pandas as pd\n",
    "import numpy as np\n",
    "from sklearn.pipeline import Pipeline\n",
    "from sklearn.compose import ColumnTransformer\n",
    "from sklearn.preprocessing import StandardScaler, OneHotEncoder\n",
    "from sklearn.impute import SimpleImputer\n",
    "import joblib"
   ]
  },
  {
   "cell_type": "code",
   "execution_count": 2,
   "metadata": {},
   "outputs": [],
   "source": [
    "# Load data into pandas DataFrame\n",
    "data = pd.read_csv('../data/Student data.csv',skiprows=24, header=None)"
   ]
  },
  {
   "cell_type": "code",
   "execution_count": 3,
   "metadata": {},
   "outputs": [],
   "source": [
    "# Convert data to DataFrame\n",
    "df = pd.DataFrame(data)\n"
   ]
  },
  {
   "cell_type": "code",
   "execution_count": 4,
   "metadata": {},
   "outputs": [],
   "source": [
    "columns = ['firstTermGpa', 'secondTermGpa', 'firstLanguage', 'funding', 'school', 'fastTrack', 'coop', 'residency',\n",
    "           'gender', 'previousEducation', 'ageGroup', 'highSchoolAverageMark', 'mathScore', 'englishScore', 'firstYearPersistence']"
   ]
  },
  {
   "cell_type": "code",
   "execution_count": 5,
   "metadata": {},
   "outputs": [],
   "source": [
    "df.columns = columns\n"
   ]
  },
  {
   "cell_type": "code",
   "execution_count": 6,
   "metadata": {},
   "outputs": [],
   "source": [
    "\n",
    "# Replace '?' with NaN\n",
    "df.replace('?', np.nan, inplace=True)"
   ]
  },
  {
   "cell_type": "code",
   "execution_count": 7,
   "metadata": {},
   "outputs": [],
   "source": [
    "# Define numeric and categorical columns\n",
    "numeric_features = ['firstTermGpa', 'secondTermGpa', 'highSchoolAverageMark', 'mathScore',]\n",
    "categorical_features = ['firstLanguage', 'funding', 'school', 'fastTrack', 'coop', 'residency', 'gender', 'previousEducation', 'ageGroup','englishScore',]"
   ]
  },
  {
   "cell_type": "code",
   "execution_count": 10,
   "metadata": {},
   "outputs": [],
   "source": [
    "# Create preprocessing pipelines for numeric and categorical data\n",
    "numeric_transformer = Pipeline(steps=[\n",
    "    ('imputer', SimpleImputer(strategy='mean')),\n",
    "    ('scaler', StandardScaler())\n",
    "])\n",
    "\n",
    "categorical_transformer = Pipeline(steps=[\n",
    "    ('imputer', SimpleImputer(strategy='most_frequent')),\n",
    "    ('onehot', OneHotEncoder(handle_unknown='ignore'))\n",
    "])"
   ]
  },
  {
   "cell_type": "code",
   "execution_count": 11,
   "metadata": {},
   "outputs": [],
   "source": [
    "\n",
    "# Combine preprocessing steps\n",
    "preprocessor = ColumnTransformer(\n",
    "    transformers=[\n",
    "        ('num', numeric_transformer, numeric_features),\n",
    "        ('cat', categorical_transformer, categorical_features)\n",
    "    ]\n",
    ")"
   ]
  },
  {
   "cell_type": "code",
   "execution_count": 12,
   "metadata": {},
   "outputs": [],
   "source": [
    "# Apply the pipeline to the data\n",
    "df_processed = preprocessor.fit_transform(df)"
   ]
  },
  {
   "cell_type": "code",
   "execution_count": 13,
   "metadata": {},
   "outputs": [
    {
     "name": "stdout",
     "output_type": "stream",
     "text": [
      "      firstTermGpa  secondTermGpa  highSchoolAverageMark     mathScore  \\\n",
      "0        -2.437302      -2.651716              -2.165197 -1.877967e+00   \n",
      "1        -0.296368      -0.771183               0.000000  8.058823e-16   \n",
      "2         1.202286       1.037021               1.770931  9.574794e-01   \n",
      "3         0.149660      -0.468955               0.000000  8.058823e-16   \n",
      "4         1.223695       1.416744               2.367314  8.058823e-16   \n",
      "...            ...            ...                    ...           ...   \n",
      "1432     -1.227209      -2.651716               0.000000  1.637986e+00   \n",
      "1433      1.296487       1.178998               0.000000  8.058823e-16   \n",
      "1434     -0.706714      -0.348064               0.101059 -1.651131e+00   \n",
      "1435      1.006809       1.445158               0.000000  1.524569e+00   \n",
      "1436     -0.610372       0.362667               0.458888 -6.303706e-01   \n",
      "\n",
      "      firstLanguage_1  firstLanguage_2  firstLanguage_3  funding_1  funding_2  \\\n",
      "0                 1.0              0.0              0.0        0.0        1.0   \n",
      "1                 0.0              0.0              1.0        0.0        0.0   \n",
      "2                 1.0              0.0              0.0        1.0        0.0   \n",
      "3                 0.0              0.0              1.0        0.0        0.0   \n",
      "4                 1.0              0.0              0.0        0.0        1.0   \n",
      "...               ...              ...              ...        ...        ...   \n",
      "1432              1.0              0.0              0.0        0.0        0.0   \n",
      "1433              1.0              0.0              0.0        0.0        1.0   \n",
      "1434              1.0              0.0              0.0        0.0        1.0   \n",
      "1435              1.0              0.0              0.0        0.0        0.0   \n",
      "1436              1.0              0.0              0.0        0.0        1.0   \n",
      "\n",
      "      funding_4  ...  ageGroup_7  ageGroup_8  englishScore_1  englishScore_10  \\\n",
      "0           0.0  ...         0.0         0.0             0.0              0.0   \n",
      "1           1.0  ...         0.0         0.0             0.0              0.0   \n",
      "2           0.0  ...         0.0         0.0             0.0              0.0   \n",
      "3           1.0  ...         0.0         0.0             0.0              0.0   \n",
      "4           0.0  ...         0.0         0.0             0.0              0.0   \n",
      "...         ...  ...         ...         ...             ...              ...   \n",
      "1432        1.0  ...         0.0         0.0             0.0              1.0   \n",
      "1433        0.0  ...         0.0         0.0             0.0              1.0   \n",
      "1434        0.0  ...         0.0         0.0             0.0              0.0   \n",
      "1435        1.0  ...         0.0         0.0             0.0              0.0   \n",
      "1436        0.0  ...         0.0         0.0             0.0              0.0   \n",
      "\n",
      "      englishScore_2  englishScore_3  englishScore_4  englishScore_7  \\\n",
      "0                0.0             0.0             0.0             1.0   \n",
      "1                0.0             0.0             0.0             1.0   \n",
      "2                0.0             0.0             0.0             0.0   \n",
      "3                0.0             0.0             0.0             0.0   \n",
      "4                0.0             0.0             0.0             0.0   \n",
      "...              ...             ...             ...             ...   \n",
      "1432             0.0             0.0             0.0             0.0   \n",
      "1433             0.0             0.0             0.0             0.0   \n",
      "1434             0.0             0.0             0.0             0.0   \n",
      "1435             0.0             0.0             0.0             0.0   \n",
      "1436             0.0             0.0             0.0             0.0   \n",
      "\n",
      "      englishScore_8  englishScore_9  \n",
      "0                0.0             0.0  \n",
      "1                0.0             0.0  \n",
      "2                0.0             1.0  \n",
      "3                1.0             0.0  \n",
      "4                0.0             1.0  \n",
      "...              ...             ...  \n",
      "1432             0.0             0.0  \n",
      "1433             0.0             0.0  \n",
      "1434             0.0             1.0  \n",
      "1435             1.0             0.0  \n",
      "1436             0.0             1.0  \n",
      "\n",
      "[1437 rows x 42 columns]\n"
     ]
    }
   ],
   "source": [
    "# Get the column names for numeric and one-hot encoded features \n",
    "numeric_columns = numeric_features \n",
    "encoded_categories = preprocessor.named_transformers_['cat'].named_steps['onehot'].get_feature_names_out(categorical_features) \n",
    "all_columns = list(numeric_columns) + list(encoded_categories) \n",
    "\n",
    "# Convert the result back to a DataFrame with column names \n",
    "df_processed = pd.DataFrame(df_processed, columns=all_columns) \n",
    "\n",
    "print(df_processed)"
   ]
  },
  {
   "cell_type": "code",
   "execution_count": 14,
   "metadata": {},
   "outputs": [
    {
     "name": "stdout",
     "output_type": "stream",
     "text": [
      "Cleaned data saved to 'fixed_data.csv'\n"
     ]
    }
   ],
   "source": [
    "# Save the cleaned data to a csv file\n",
    "df_processed.to_csv('../data/fixed_data.csv', index=False)\n",
    "print(\"Cleaned data saved to 'fixed_data.csv'\")"
   ]
  },
  {
   "cell_type": "code",
   "execution_count": 15,
   "metadata": {},
   "outputs": [
    {
     "data": {
      "text/plain": [
       "['../models/preprocessor_pipeline.pkl']"
      ]
     },
     "execution_count": 15,
     "metadata": {},
     "output_type": "execute_result"
    }
   ],
   "source": [
    "# Save the preprocessor to a file \n",
    "joblib.dump(preprocessor, '../models/preprocessor_pipeline.pkl')"
   ]
  }
 ],
 "metadata": {
  "kernelspec": {
   "display_name": "myenv",
   "language": "python",
   "name": "python3"
  },
  "language_info": {
   "codemirror_mode": {
    "name": "ipython",
    "version": 3
   },
   "file_extension": ".py",
   "mimetype": "text/x-python",
   "name": "python",
   "nbconvert_exporter": "python",
   "pygments_lexer": "ipython3",
   "version": "3.12.1"
  }
 },
 "nbformat": 4,
 "nbformat_minor": 2
}
